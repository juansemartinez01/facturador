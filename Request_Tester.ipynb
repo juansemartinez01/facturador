{
 "cells": [
  {
   "cell_type": "code",
   "execution_count": null,
   "id": "d2d31ce7",
   "metadata": {},
   "outputs": [
    {
     "name": "stdout",
     "output_type": "stream",
     "text": [
      "Status: 200\n",
      "Respuesta: {'detail': 'Certificado almacenado'}\n"
     ]
    }
   ],
   "source": [
    "import requests\n",
    "\n",
    "url = \"http://localhost:8001/certificados\"\n",
    "\n",
    "payload = {\n",
    "    \"cuit_emisor\": 20412219652,\n",
    "    \"cert_content\": \"\"\" \"\"\",\n",
    "    \"key_content\": \"\"\" \"\"\",\n",
    "    \"test\": True\n",
    "}\n",
    "\n",
    "response = requests.post(url, json=payload)\n",
    "\n",
    "print(\"Status:\", response.status_code)\n",
    "print(\"Respuesta:\", response.json())\n"
   ]
  },
  {
   "cell_type": "code",
   "execution_count": 1,
   "id": "9d0c4eee",
   "metadata": {},
   "outputs": [
    {
     "name": "stdout",
     "output_type": "stream",
     "text": [
      "✅ Factura emitida:\n",
      "{'cae': '75352271209884', 'vencimiento': '20250912', 'nro_comprobante': 10, 'fecha': '2025-09-02', 'qr_url': 'https://www.afip.gob.ar/fe/qr/?p=eyJ2ZXIiOiAxLCAiZmVjaGEiOiAiMjAyNS0wOS0wMiIsICJjdWl0IjogMjA0MTIyMTk2NTIsICJwdG9WdGEiOiAzLCAidGlwb0NtcCI6IDExLCAibnJvQ21wIjogMTAsICJpbXBvcnRlIjogMS4wLCAibW9uZWRhIjogIlBFUyIsICJjdHoiOiAiMSIsICJ0aXBvRG9jUmVjIjogOTksICJucm9Eb2NSZWMiOiAwLCAidGlwb0NvZEF1dCI6ICJFIiwgImNvZEF1dCI6IDc1MzUyMjcxMjA5ODg0fQ=='}\n"
     ]
    }
   ],
   "source": [
    "import requests\n",
    "\n",
    "url = \"http://localhost:8001/facturas\"  # Cambiar si estás usando host.docker.internal\n",
    "\n",
    "payload = {\n",
    "    \"cuit_emisor\": 20412219652,\n",
    "    \"test\": True,\n",
    "    \"punto_venta\": 3,\n",
    "    # Datos del receptor\n",
    "    \"doc_tipo\": 99,\n",
    "    \"doc_nro\": 0,\n",
    "    \"cond_iva_receptor\": 5,\n",
    "    # Datos de la factura\n",
    "    \"factura_tipo\": 11,\n",
    "    \"metodo_pago\": 1,   \n",
    "    \"importe_total\": 1,\n",
    "    \"importe_neto\": None,\n",
    "    \"importe_iva\": 0.0,\n",
    "    \"importe_total_concepto\": 0.0,\n",
    "    \"importe_exento\": 0.0,\n",
    "    \"importe_tributos\": 0.0,\n",
    "    \"alicuotas_iva\": None,\n",
    "    \"moneda\": \"PES\",\n",
    "    \"moneda_pago\": \"N\",\n",
    "    \"cotizacion\": \"1\",\n",
    "    \"concepto\": 1,\n",
    "    # Nota de credito/debito\n",
    "    \"tipo_comprobante_original\": None,\n",
    "    \"pto_venta_original\": None,\n",
    "    \"nro_comprobante_original\": None,\n",
    "    \"cuit_receptor_comprobante_original\": None,\n",
    "}\n",
    "\n",
    "try:\n",
    "    response = requests.post(url, json=payload)\n",
    "    response.raise_for_status()  # Lanza excepción si hubo error HTTP\n",
    "    print(\"✅ Factura emitida:\")\n",
    "    print(response.json())\n",
    "except requests.exceptions.HTTPError as e:\n",
    "    print(\"❌ Error en la API:\", e.response.status_code)\n",
    "    print(e.response.json())\n",
    "except Exception as e:\n",
    "    print(\"❌ Error general:\", str(e))"
   ]
  }
 ],
 "metadata": {
  "kernelspec": {
   "display_name": "venv_facturador",
   "language": "python",
   "name": "python3"
  },
  "language_info": {
   "codemirror_mode": {
    "name": "ipython",
    "version": 3
   },
   "file_extension": ".py",
   "mimetype": "text/x-python",
   "name": "python",
   "nbconvert_exporter": "python",
   "pygments_lexer": "ipython3",
   "version": "3.10.11"
  }
 },
 "nbformat": 4,
 "nbformat_minor": 5
}
