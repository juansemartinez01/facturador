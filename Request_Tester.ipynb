{
 "cells": [
  {
   "cell_type": "code",
   "execution_count": null,
   "id": "d2d31ce7",
   "metadata": {},
   "outputs": [
    {
     "name": "stdout",
     "output_type": "stream",
     "text": [
      "Status: 200\n",
      "Respuesta: {'detail': 'Certificado almacenado'}\n"
     ]
    }
   ],
   "source": [
    "import requests\n",
    "\n",
    "url = \"http://localhost:8001/certificados\"\n",
    "\n",
    "payload = {\n",
    "    \"cuit_emisor\": 20412219652,\n",
    "    \"cert_content\": \"\"\" \"\"\",\n",
    "    \"key_content\": \"\"\" \"\"\",\n",
    "    \"test\": True\n",
    "}\n",
    "\n",
    "response = requests.post(url, json=payload)\n",
    "\n",
    "print(\"Status:\", response.status_code)\n",
    "print(\"Respuesta:\", response.json())\n"
   ]
  },
  {
   "cell_type": "code",
   "execution_count": 3,
   "id": "9d0c4eee",
   "metadata": {},
   "outputs": [
    {
     "name": "stdout",
     "output_type": "stream",
     "text": [
      "✅ Factura emitida:\n",
      "{'cae': '75252254190349', 'vencimiento': '20250701', 'nro_comprobante': 1, 'fecha': '2025-06-21', 'qr_url': 'https://www.afip.gob.ar/fe/qr/?p=eyJ2ZXIiOiAxLCAiZmVjaGEiOiAiMjAyNS0wNi0yMSIsICJjdWl0IjogMjA0MTIyMTk2NTIsICJwdG9WdGEiOiAzLCAidGlwb0NtcCI6IDExLCAibnJvQ21wIjogMSwgImltcG9ydGUiOiAxLjAsICJtb25lZGEiOiAiUEVTIiwgImN0eiI6IDEuMCwgInRpcG9Eb2NSZWMiOiA5OSwgIm5yb0RvY1JlYyI6IDAsICJ0aXBvQ29kQXV0IjogIkUiLCAiY29kQXV0IjogNzUyNTIyNTQxOTAzNDl9'}\n"
     ]
    }
   ],
   "source": [
    "import requests\n",
    "\n",
    "url = \"http://localhost:8001/facturas\"  # Cambiar si estás usando host.docker.internal\n",
    "\n",
    "payload = {\n",
    "    \"cuit_emisor\": 20412219652,   \n",
    "    \"importe_total\": 1,\n",
    "    \"test\": True,\n",
    "    \"punto_venta\": 3,\n",
    "    \"factura_tipo\": 11,\n",
    "    \"metodo_pago\": 1\n",
    "}\n",
    "\n",
    "try:\n",
    "    response = requests.post(url, json=payload)\n",
    "    response.raise_for_status()  # Lanza excepción si hubo error HTTP\n",
    "    print(\"✅ Factura emitida:\")\n",
    "    print(response.json())\n",
    "except requests.exceptions.HTTPError as e:\n",
    "    print(\"❌ Error en la API:\", e.response.status_code)\n",
    "    print(e.response.json())\n",
    "except Exception as e:\n",
    "    print(\"❌ Error general:\", str(e))"
   ]
  }
 ],
 "metadata": {
  "kernelspec": {
   "display_name": "venv_facturador",
   "language": "python",
   "name": "python3"
  },
  "language_info": {
   "codemirror_mode": {
    "name": "ipython",
    "version": 3
   },
   "file_extension": ".py",
   "mimetype": "text/x-python",
   "name": "python",
   "nbconvert_exporter": "python",
   "pygments_lexer": "ipython3",
   "version": "3.10.11"
  }
 },
 "nbformat": 4,
 "nbformat_minor": 5
}
